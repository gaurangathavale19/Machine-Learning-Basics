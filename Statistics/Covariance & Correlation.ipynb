{
 "cells": [
  {
   "cell_type": "code",
   "execution_count": 1,
   "id": "6eb9f6f8-e5d0-40a6-a6d4-3635bee83bbe",
   "metadata": {},
   "outputs": [],
   "source": [
    "import pandas as pd\n",
    "import numpy as np\n",
    "import matplotlib.pyplot as plt\n",
    "import seaborn as sns"
   ]
  },
  {
   "cell_type": "code",
   "execution_count": 2,
   "id": "15a45511-cef0-42d1-a227-d562951f39f7",
   "metadata": {},
   "outputs": [],
   "source": [
    "dataset = pd.read_csv(\"../dataset/Titanic-Dataset.csv\")"
   ]
  },
  {
   "cell_type": "code",
   "execution_count": 3,
   "id": "e4b35aa3-4bfd-42c1-81aa-5a87e87ecd2e",
   "metadata": {},
   "outputs": [],
   "source": [
    "##### Covariance - Range = (-inf to + int)\n",
    "### Signifies the direction of the linear relationship between 2 variables i.e. (directly proportional or inversely proportional)\n",
    "### Increasing the value of one variable might have a positive or a negative impact on other variable\n",
    "age = dataset['Age']\n",
    "fare = dataset['Fare']\n",
    "mean_age = np.mean(age)\n",
    "mean_fare = np.mean(fare) "
   ]
  },
  {
   "cell_type": "code",
   "execution_count": 14,
   "id": "aa49c4a1-6233-4986-99ee-b38cdb480466",
   "metadata": {},
   "outputs": [],
   "source": [
    "age.fillna(np.mean(age), inplace=True)"
   ]
  },
  {
   "cell_type": "code",
   "execution_count": 15,
   "id": "99f035ae-f5bd-4bab-9fa2-19d503814622",
   "metadata": {},
   "outputs": [
    {
     "data": {
      "text/plain": [
       "np.float64(59.09580051383113)"
      ]
     },
     "execution_count": 15,
     "metadata": {},
     "output_type": "execute_result"
    }
   ],
   "source": [
    "cov = np.mean([(age[i] - mean_age) * (fare[i] - mean_fare) for i in range(len(age))])\n",
    "cov"
   ]
  },
  {
   "cell_type": "code",
   "execution_count": 17,
   "id": "32043088-f818-4c78-83ce-fd3ccb3a1f32",
   "metadata": {},
   "outputs": [
    {
     "data": {
      "text/plain": [
       "np.float64(0.09156609328505762)"
      ]
     },
     "execution_count": 17,
     "metadata": {},
     "output_type": "execute_result"
    }
   ],
   "source": [
    "##### Correlation - Range (-1 to +1)\n",
    "### Used to study the strength of relationship between 2 numerically measured, continuous variables\n",
    "### |-------------------|-------------------|-------------------|-------------------|\n",
    "## -1    -ve Strong   -0.5     -ve Weak     0     +ve Strong   0.5    +ve Weak      1   \n",
    "####### REFER PEARSON CORRELATION COEFFICIENT\n",
    "correlation = cov/(np.std(age) * np.std(fare))\n",
    "correlation"
   ]
  },
  {
   "cell_type": "code",
   "execution_count": 4,
   "id": "d0dc586a-f806-4aad-969b-0503e9c1b5c7",
   "metadata": {},
   "outputs": [],
   "source": [
    "tips = pd.read_csv(\"C:\\\\Users\\\\Gaurang\\\\Downloads\\\\tip.csv\")"
   ]
  },
  {
   "cell_type": "code",
   "execution_count": 5,
   "id": "ccd1fb11-ce5e-41bc-b82d-bba227890158",
   "metadata": {
    "scrolled": true
   },
   "outputs": [
    {
     "data": {
      "text/plain": [
       "total_bill    0\n",
       "tip           0\n",
       "sex           0\n",
       "smoker        0\n",
       "day           0\n",
       "time          0\n",
       "size          0\n",
       "dtype: int64"
      ]
     },
     "execution_count": 5,
     "metadata": {},
     "output_type": "execute_result"
    }
   ],
   "source": [
    "tips.isnull().sum()"
   ]
  },
  {
   "cell_type": "code",
   "execution_count": 6,
   "id": "c2a9fa00-359f-4a75-9381-355628e911f3",
   "metadata": {},
   "outputs": [
    {
     "name": "stdout",
     "output_type": "stream",
     "text": [
      "<class 'pandas.core.frame.DataFrame'>\n",
      "RangeIndex: 244 entries, 0 to 243\n",
      "Data columns (total 7 columns):\n",
      " #   Column      Non-Null Count  Dtype  \n",
      "---  ------      --------------  -----  \n",
      " 0   total_bill  244 non-null    float64\n",
      " 1   tip         244 non-null    float64\n",
      " 2   sex         244 non-null    object \n",
      " 3   smoker      244 non-null    object \n",
      " 4   day         244 non-null    object \n",
      " 5   time        244 non-null    object \n",
      " 6   size        244 non-null    int64  \n",
      "dtypes: float64(2), int64(1), object(4)\n",
      "memory usage: 13.5+ KB\n"
     ]
    }
   ],
   "source": [
    "tips.info()"
   ]
  },
  {
   "cell_type": "code",
   "execution_count": 17,
   "id": "bf38ae1d-000e-4eac-b05f-5593a4e6cbcf",
   "metadata": {},
   "outputs": [],
   "source": [
    "data_corr = tips.select_dtypes([\"float64\", \"int64\"]).corr()"
   ]
  },
  {
   "cell_type": "code",
   "execution_count": 18,
   "id": "11616646-d26b-454a-ad0a-6cb9dcb0e5a2",
   "metadata": {},
   "outputs": [],
   "source": [
    "data_cov = tips.select_dtypes([\"float64\", \"int64\"]).cov()"
   ]
  },
  {
   "cell_type": "code",
   "execution_count": 19,
   "id": "023f620d-1ff0-4483-b6dc-f66f02406179",
   "metadata": {},
   "outputs": [],
   "source": [
    "total_bill = tips[\"total_bill\"]\n",
    "tip = tips[\"tip\"]\n",
    "mean_total_bill = np.mean(total_bill)\n",
    "mean_tip = np.mean(tip)"
   ]
  },
  {
   "cell_type": "code",
   "execution_count": 20,
   "id": "a45e337d-909f-4ba8-8645-0ae9d693f3fe",
   "metadata": {},
   "outputs": [
    {
     "data": {
      "text/plain": [
       "np.float64(8.289388917629669)"
      ]
     },
     "execution_count": 20,
     "metadata": {},
     "output_type": "execute_result"
    }
   ],
   "source": [
    "cov1 = np.mean([(tip[i] - mean_tip) * (total_bill[i] - mean_total_bill) for i in range(len(total_bill))])\n",
    "cov1"
   ]
  },
  {
   "cell_type": "code",
   "execution_count": 21,
   "id": "40c575df-d3e8-4c21-8212-6ac1affc1c36",
   "metadata": {},
   "outputs": [
    {
     "data": {
      "text/plain": [
       "np.float64(0.6757341092113643)"
      ]
     },
     "execution_count": 21,
     "metadata": {},
     "output_type": "execute_result"
    }
   ],
   "source": [
    "correlation1 = cov1/(np.std(total_bill) * np.std(tip))\n",
    "correlation1"
   ]
  },
  {
   "cell_type": "code",
   "execution_count": 26,
   "id": "01cedafd-62c0-4883-95fc-a2b27c0b7271",
   "metadata": {},
   "outputs": [
    {
     "data": {
      "image/png": "[encoded data removed]",
      "text/plain": [
       "<Figure size 640x480 with 2 Axes>"
      ]
     },
     "metadata": {},
     "output_type": "display_data"
    }
   ],
   "source": [
    "sns.heatmap(data_corr, annot=True)\n",
    "plt.show()"
   ]
  },
  {
   "cell_type": "code",
   "execution_count": 27,
   "id": "caeb29f1-28bb-4ce8-b6c8-71694ea8b8fa",
   "metadata": {},
   "outputs": [
    {
     "data": {
      "image/png": "[encoded data removed]",
      "text/plain": [
       "<Figure size 640x480 with 2 Axes>"
      ]
     },
     "metadata": {},
     "output_type": "display_data"
    }
   ],
   "source": [
    "sns.heatmap(data_cov, annot=True)\n",
    "plt.show()"
   ]
  },
  {
   "cell_type": "code",
   "execution_count": null,
   "id": "8ed879fb-e70d-4ae1-806d-13b64ca46ed6",
   "metadata": {},
   "outputs": [],
   "source": []
  }
 ],
 "metadata": {
  "kernelspec": {
   "display_name": "Python [conda env:base] *",
   "language": "python",
   "name": "conda-base-py"
  },
  "language_info": {
   "codemirror_mode": {
    "name": "ipython",
    "version": 3
   },
   "file_extension": ".py",
   "mimetype": "text/x-python",
   "name": "python",
   "nbconvert_exporter": "python",
   "pygments_lexer": "ipython3",
   "version": "3.13.5"
  }
 },
 "nbformat": 4,
 "nbformat_minor": 5
}
