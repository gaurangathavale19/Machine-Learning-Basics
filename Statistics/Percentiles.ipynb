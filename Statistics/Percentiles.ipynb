{
 "cells": [
  {
   "cell_type": "code",
   "execution_count": 1,
   "id": "857eda6d-6e99-478b-95dd-1958b7287699",
   "metadata": {},
   "outputs": [],
   "source": [
    "import pandas as pd\n",
    "import numpy as np\n",
    "import matplotlib.pyplot as plt\n",
    "import seaborn as sns"
   ]
  },
  {
   "cell_type": "code",
   "execution_count": 2,
   "id": "a0519af6-4d08-48b4-8a69-02038c03e60f",
   "metadata": {},
   "outputs": [],
   "source": [
    "dataset = pd.read_csv(\"../dataset/Titanic-Dataset.csv\")"
   ]
  },
  {
   "cell_type": "code",
   "execution_count": 3,
   "id": "96be0862-d075-480c-97eb-2cd42beea873",
   "metadata": {},
   "outputs": [
    {
     "data": {
      "text/plain": [
       "PassengerId      0\n",
       "Survived         0\n",
       "Pclass           0\n",
       "Name             0\n",
       "Sex              0\n",
       "Age            177\n",
       "SibSp            0\n",
       "Parch            0\n",
       "Ticket           0\n",
       "Fare             0\n",
       "Cabin          687\n",
       "Embarked         2\n",
       "dtype: int64"
      ]
     },
     "execution_count": 3,
     "metadata": {},
     "output_type": "execute_result"
    }
   ],
   "source": [
    "dataset.isnull().sum()"
   ]
  },
  {
   "cell_type": "code",
   "execution_count": 47,
   "id": "5469d353-dbae-4533-89cf-98598ef1f512",
   "metadata": {},
   "outputs": [],
   "source": [
    "# dataset['Age'].fillna(dataset['Age'].mean(), inplace=True)\n",
    "dataset.fillna({'Age': np.mean(dataset['Age'])}, inplace=True)"
   ]
  },
  {
   "cell_type": "code",
   "execution_count": 61,
   "id": "3f8ec7c1-2c10-47ba-9232-220dc0ae0aeb",
   "metadata": {},
   "outputs": [
    {
     "data": {
      "text/plain": [
       "(np.float64(22.0),\n",
       " np.float64(29.69911764705882),\n",
       " np.float64(35.0),\n",
       " np.float64(29.69911764705882))"
      ]
     },
     "execution_count": 61,
     "metadata": {},
     "output_type": "execute_result"
    }
   ],
   "source": [
    "Q1 = percentile25 = np.percentile(dataset['Age'], 25)\n",
    "Q2 = percentile50 = np.percentile(dataset['Age'], 50)\n",
    "Q3 = percentile75 = np.percentile(dataset['Age'], 75)\n",
    "median = np.mean(dataset['Age'])\n",
    "percentile25, percentile50, percentile75, median"
   ]
  },
  {
   "cell_type": "code",
   "execution_count": 62,
   "id": "28288f2e-5037-444b-bea3-55205f66fd56",
   "metadata": {},
   "outputs": [
    {
     "data": {
      "text/plain": [
       "np.float64(13.0)"
      ]
     },
     "execution_count": 62,
     "metadata": {},
     "output_type": "execute_result"
    }
   ],
   "source": [
    "##### Inter Quartile Range(IQR)\n",
    "### Q1 = 25_percentile\n",
    "### Q2 = Median = 50_percentile\n",
    "### Q3 = 75_percentile\n",
    "### IQR = 75_percentile - 25_percentile\n",
    "IQR = Q3 - Q1\n",
    "IQR"
   ]
  },
  {
   "cell_type": "code",
   "execution_count": 63,
   "id": "bc0ecbae-b607-4bd0-9489-302c39cb70dd",
   "metadata": {},
   "outputs": [
    {
     "data": {
      "text/plain": [
       "(np.float64(2.5), np.float64(54.5))"
      ]
     },
     "execution_count": 63,
     "metadata": {},
     "output_type": "execute_result"
    }
   ],
   "source": [
    "### min_outlier = Q1 - 1.5*IQR\n",
    "### min_outlier = Q3 + 1.5*IQR\n",
    "min_outlier = Q1 - 1.5*IQR\n",
    "max_outlier = Q3 + 1.5*IQR\n",
    "min_outlier, max_outlier"
   ]
  },
  {
   "cell_type": "code",
   "execution_count": 67,
   "id": "664dbb07-d0f4-47dc-99c3-9fedeed41433",
   "metadata": {},
   "outputs": [
    {
     "data": {
      "image/png": "[encoded data removed]",
      "text/plain": [
       "<Figure size 640x480 with 1 Axes>"
      ]
     },
     "metadata": {},
     "output_type": "display_data"
    }
   ],
   "source": [
    "##### Box Plot\n",
    "sns.boxplot(x='Age', data=dataset)\n",
    "plt.show()"
   ]
  },
  {
   "cell_type": "code",
   "execution_count": null,
   "id": "21f469a2-e317-4743-b2a6-77377b93344f",
   "metadata": {},
   "outputs": [],
   "source": []
  }
 ],
 "metadata": {
  "kernelspec": {
   "display_name": "Python [conda env:base] *",
   "language": "python",
   "name": "conda-base-py"
  },
  "language_info": {
   "codemirror_mode": {
    "name": "ipython",
    "version": 3
   },
   "file_extension": ".py",
   "mimetype": "text/x-python",
   "name": "python",
   "nbconvert_exporter": "python",
   "pygments_lexer": "ipython3",
   "version": "3.13.5"
  }
 },
 "nbformat": 4,
 "nbformat_minor": 5
}
