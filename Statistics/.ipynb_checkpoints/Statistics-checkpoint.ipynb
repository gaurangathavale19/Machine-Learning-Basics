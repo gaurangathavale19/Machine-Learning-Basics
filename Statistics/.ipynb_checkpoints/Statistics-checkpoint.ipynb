{
 "cells": [
  {
   "cell_type": "code",
   "execution_count": 1,
   "id": "6542bd2f-852f-42e7-b9ac-c6d2f85bd353",
   "metadata": {},
   "outputs": [],
   "source": [
    "import pandas as pd\n",
    "import numpy as np\n",
    "import matplotlib.pyplot as plt\n",
    "import seaborn as sns"
   ]
  },
  {
   "cell_type": "code",
   "execution_count": 2,
   "id": "e10d218d-7f78-404b-8d1b-f485d1f2dd57",
   "metadata": {},
   "outputs": [],
   "source": [
    "dataset = pd.read_csv(\"../dataset/Titanic-Dataset.csv\")"
   ]
  },
  {
   "cell_type": "code",
   "execution_count": 3,
   "id": "119ebd8c-fba5-4cab-8172-54d626020af4",
   "metadata": {},
   "outputs": [
    {
     "data": {
      "text/html": [
       "<div>\n",
       "<style scoped>\n",
       "    .dataframe tbody tr th:only-of-type {\n",
       "        vertical-align: middle;\n",
       "    }\n",
       "\n",
       "    .dataframe tbody tr th {\n",
       "        vertical-align: top;\n",
       "    }\n",
       "\n",
       "    .dataframe thead th {\n",
       "        text-align: right;\n",
       "    }\n",
       "</style>\n",
       "<table border=\"1\" class=\"dataframe\">\n",
       "  <thead>\n",
       "    <tr style=\"text-align: right;\">\n",
       "      <th></th>\n",
       "      <th>PassengerId</th>\n",
       "      <th>Survived</th>\n",
       "      <th>Pclass</th>\n",
       "      <th>Name</th>\n",
       "      <th>Sex</th>\n",
       "      <th>Age</th>\n",
       "      <th>SibSp</th>\n",
       "      <th>Parch</th>\n",
       "      <th>Ticket</th>\n",
       "      <th>Fare</th>\n",
       "      <th>Cabin</th>\n",
       "      <th>Embarked</th>\n",
       "    </tr>\n",
       "  </thead>\n",
       "  <tbody>\n",
       "    <tr>\n",
       "      <th>0</th>\n",
       "      <td>1</td>\n",
       "      <td>0</td>\n",
       "      <td>3</td>\n",
       "      <td>Braund, Mr. Owen Harris</td>\n",
       "      <td>male</td>\n",
       "      <td>22.0</td>\n",
       "      <td>1</td>\n",
       "      <td>0</td>\n",
       "      <td>A/5 21171</td>\n",
       "      <td>7.2500</td>\n",
       "      <td>NaN</td>\n",
       "      <td>S</td>\n",
       "    </tr>\n",
       "    <tr>\n",
       "      <th>1</th>\n",
       "      <td>2</td>\n",
       "      <td>1</td>\n",
       "      <td>1</td>\n",
       "      <td>Cumings, Mrs. John Bradley (Florence Briggs Th...</td>\n",
       "      <td>female</td>\n",
       "      <td>38.0</td>\n",
       "      <td>1</td>\n",
       "      <td>0</td>\n",
       "      <td>PC 17599</td>\n",
       "      <td>71.2833</td>\n",
       "      <td>C85</td>\n",
       "      <td>C</td>\n",
       "    </tr>\n",
       "    <tr>\n",
       "      <th>2</th>\n",
       "      <td>3</td>\n",
       "      <td>1</td>\n",
       "      <td>3</td>\n",
       "      <td>Heikkinen, Miss. Laina</td>\n",
       "      <td>female</td>\n",
       "      <td>26.0</td>\n",
       "      <td>0</td>\n",
       "      <td>0</td>\n",
       "      <td>STON/O2. 3101282</td>\n",
       "      <td>7.9250</td>\n",
       "      <td>NaN</td>\n",
       "      <td>S</td>\n",
       "    </tr>\n",
       "  </tbody>\n",
       "</table>\n",
       "</div>"
      ],
      "text/plain": [
       "   PassengerId  Survived  Pclass  \\\n",
       "0            1         0       3   \n",
       "1            2         1       1   \n",
       "2            3         1       3   \n",
       "\n",
       "                                                Name     Sex   Age  SibSp  \\\n",
       "0                            Braund, Mr. Owen Harris    male  22.0      1   \n",
       "1  Cumings, Mrs. John Bradley (Florence Briggs Th...  female  38.0      1   \n",
       "2                             Heikkinen, Miss. Laina  female  26.0      0   \n",
       "\n",
       "   Parch            Ticket     Fare Cabin Embarked  \n",
       "0      0         A/5 21171   7.2500   NaN        S  \n",
       "1      0          PC 17599  71.2833   C85        C  \n",
       "2      0  STON/O2. 3101282   7.9250   NaN        S  "
      ]
     },
     "execution_count": 3,
     "metadata": {},
     "output_type": "execute_result"
    }
   ],
   "source": [
    "dataset.head(3)"
   ]
  },
  {
   "cell_type": "code",
   "execution_count": 22,
   "id": "bc4b9129-85a4-4ca8-b58a-96643c1a0c26",
   "metadata": {},
   "outputs": [],
   "source": [
    "min = dataset[\"Fare\"].min()\n",
    "max = dataset[\"Fare\"].max()"
   ]
  },
  {
   "cell_type": "code",
   "execution_count": 23,
   "id": "bd6f5b99-7f4c-4eaf-bb16-64ff4f1cb13f",
   "metadata": {},
   "outputs": [],
   "source": [
    "range = max - min"
   ]
  },
  {
   "cell_type": "code",
   "execution_count": 24,
   "id": "28117136-3f05-4e2c-8570-c0303fbb0cfd",
   "metadata": {
    "scrolled": true
   },
   "outputs": [
    {
     "data": {
      "text/plain": [
       "512.3292"
      ]
     },
     "execution_count": 24,
     "metadata": {},
     "output_type": "execute_result"
    }
   ],
   "source": [
    "range"
   ]
  },
  {
   "cell_type": "code",
   "execution_count": 69,
   "id": "6f54d708-9981-43a7-8030-493892594857",
   "metadata": {},
   "outputs": [],
   "source": [
    "##### Mean Absolute Deviation (MAD) - Used when 2 or more data/datasets have same MEAN value - to check spreadness\n",
    "section_a = np.array([75,65,73,65,72,70])\n",
    "section_b = np.array([90,47,43,96,93,51])\n",
    "no = np.array([1,2,3,4,5,6])"
   ]
  },
  {
   "cell_type": "code",
   "execution_count": 70,
   "id": "569fa0e2-fb7f-4255-93bf-1573186a814a",
   "metadata": {},
   "outputs": [],
   "source": [
    "mean_a = int(np.mean(section_a))\n",
    "mean_b = np.mean(section_b)"
   ]
  },
  {
   "cell_type": "code",
   "execution_count": 95,
   "id": "aec90888-1285-4ff2-b08a-ad39390fb267",
   "metadata": {},
   "outputs": [],
   "source": [
    "mad_a = np.mean([np.abs(x - mean_a) for x in section_a])\n",
    "mad_b = np.mean([np.abs(x - mean_b) for x in section_b])"
   ]
  },
  {
   "cell_type": "code",
   "execution_count": 96,
   "id": "9b8ba02f-c2fa-4850-a88e-f6bbd204529b",
   "metadata": {},
   "outputs": [
    {
     "data": {
      "text/plain": [
       "np.float64(3.3333333333333335)"
      ]
     },
     "execution_count": 96,
     "metadata": {},
     "output_type": "execute_result"
    }
   ],
   "source": [
    "mad_a"
   ]
  },
  {
   "cell_type": "code",
   "execution_count": 97,
   "id": "e5cd9770-ec5e-4a65-a960-c2aa7e908b45",
   "metadata": {},
   "outputs": [
    {
     "data": {
      "text/plain": [
       "np.float64(23.0)"
      ]
     },
     "execution_count": 97,
     "metadata": {},
     "output_type": "execute_result"
    }
   ],
   "source": [
    "mad_b"
   ]
  },
  {
   "cell_type": "code",
   "execution_count": 98,
   "id": "10d73897-b510-477d-bb98-6d6d979504c9",
   "metadata": {},
   "outputs": [
    {
     "data": {
      "image/png": "[encoded data removed]",
      "text/plain": [
       "<Figure size 600x300 with 1 Axes>"
      ]
     },
     "metadata": {},
     "output_type": "display_data"
    }
   ],
   "source": [
    "plt.figure(figsize=(6,3))\n",
    "plt.scatter(section_a, no, label=\"section_a\")\n",
    "plt.scatter(section_b, no, label=\"section_b\", color=\"red\")\n",
    "plt.plot([70,70,70,70,70,70], no, color=\"green\", label = \"Mean\")\n",
    "plt.legend()\n",
    "plt.show()"
   ]
  },
  {
   "cell_type": "code",
   "execution_count": 111,
   "id": "fead73b1-e702-4632-bf71-0c9f115ca6cd",
   "metadata": {},
   "outputs": [],
   "source": [
    "##### STANDARD DEVIATION (SD) - Used when 2 or more data/datasets have same Mean Absolute Deviation (MAD) value - to check spreadness\n",
    "### Low Standard Deviation => values tend to be close to the mean/expected value\n",
    "### High Standard Deviation => values are spread out over a wider range\n",
    "sd_a = np.std(section_a)\n",
    "sd_a_formula = np.sqrt(np.mean([np.square(x - mean_a) for x in section_a]))\n",
    "\n",
    "sd_b = np.std(section_b)\n",
    "sd_b_formula = np.sqrt(np.mean([np.square(x - mean_b) for x in section_b]))"
   ]
  },
  {
   "cell_type": "code",
   "execution_count": 112,
   "id": "bd258d94-5852-4cf9-88b5-277b1eb5691f",
   "metadata": {},
   "outputs": [
    {
     "name": "stdout",
     "output_type": "stream",
     "text": [
      "3.8297084310253524 3.8297084310253524\n"
     ]
    }
   ],
   "source": [
    "print(sd_a, sd_a_formula)"
   ]
  },
  {
   "cell_type": "code",
   "execution_count": 113,
   "id": "400b6ab7-88bf-45a3-be05-026503bcb857",
   "metadata": {},
   "outputs": [
    {
     "name": "stdout",
     "output_type": "stream",
     "text": [
      "23.18045153428495 23.18045153428495\n"
     ]
    }
   ],
   "source": [
    "print(sd_b, sd_b_formula)"
   ]
  },
  {
   "cell_type": "code",
   "execution_count": 114,
   "id": "22b38226-671c-45d0-986f-4ec0cb877f53",
   "metadata": {},
   "outputs": [],
   "source": [
    "##### Variance\n",
    "\n",
    "var_a = np.var(section_a)\n",
    "var_a_formula = np.mean([np.square(x - mean_a) for x in section_a])\n",
    "\n",
    "var_b = np.var(section_b)\n",
    "var_b_formula = np.mean([np.square(x - mean_b) for x in section_b])"
   ]
  },
  {
   "cell_type": "code",
   "execution_count": 115,
   "id": "5aeecb8c-bc8d-42a9-889b-f371330dad46",
   "metadata": {},
   "outputs": [
    {
     "data": {
      "text/plain": [
       "(np.float64(14.666666666666666), np.float64(14.666666666666666))"
      ]
     },
     "execution_count": 115,
     "metadata": {},
     "output_type": "execute_result"
    }
   ],
   "source": [
    "var_a, var_a_formula"
   ]
  },
  {
   "cell_type": "code",
   "execution_count": 150,
   "id": "9248fc9c-0bbe-421a-888e-7f6cb4af4477",
   "metadata": {},
   "outputs": [
    {
     "data": {
      "text/plain": [
       "(np.float64(537.3333333333334), np.float64(537.3333333333334))"
      ]
     },
     "execution_count": 150,
     "metadata": {},
     "output_type": "execute_result"
    }
   ],
   "source": [
    "var_b, var_b_formula"
   ]
  },
  {
   "cell_type": "code",
   "execution_count": 151,
   "id": "549e0ca8-b96c-48cf-bdd3-dae84dae7736",
   "metadata": {},
   "outputs": [],
   "source": [
    "##### Lets apply on titanic dataset\n",
    "age = dataset[\"Age\"]"
   ]
  },
  {
   "cell_type": "code",
   "execution_count": 152,
   "id": "bd768903-b322-47fb-b745-135cbe72691f",
   "metadata": {},
   "outputs": [],
   "source": [
    "age.fillna(np.mean(age), inplace=True)"
   ]
  },
  {
   "cell_type": "code",
   "execution_count": 153,
   "id": "0c775281-7190-40e0-b3d4-88a1a2a85824",
   "metadata": {},
   "outputs": [
    {
     "data": {
      "text/plain": [
       "168.86266660394799"
      ]
     },
     "execution_count": 153,
     "metadata": {},
     "output_type": "execute_result"
    }
   ],
   "source": [
    "np.var(age)"
   ]
  },
  {
   "cell_type": "code",
   "execution_count": 154,
   "id": "73c8dbce-e4e8-4a84-9d7a-d94616e6288f",
   "metadata": {},
   "outputs": [
    {
     "data": {
      "text/plain": [
       "12.994716872789033"
      ]
     },
     "execution_count": 154,
     "metadata": {},
     "output_type": "execute_result"
    }
   ],
   "source": [
    "np.std(age)"
   ]
  },
  {
   "cell_type": "code",
   "execution_count": 155,
   "id": "26dfa8ed-5fd3-49ed-a94d-8ec4daa16e35",
   "metadata": {},
   "outputs": [
    {
     "data": {
      "image/png": "[encoded data removed]",
      "text/plain": [
       "<Figure size 640x480 with 1 Axes>"
      ]
     },
     "metadata": {},
     "output_type": "display_data"
    }
   ],
   "source": [
    "sns.histplot(x=\"Age\", data=dataset)\n",
    "plt.show()"
   ]
  },
  {
   "cell_type": "code",
   "execution_count": 156,
   "id": "3442ac5f-3b18-4cc8-abca-a11f55e292f9",
   "metadata": {},
   "outputs": [
    {
     "data": {
      "text/html": [
       "<div>\n",
       "<style scoped>\n",
       "    .dataframe tbody tr th:only-of-type {\n",
       "        vertical-align: middle;\n",
       "    }\n",
       "\n",
       "    .dataframe tbody tr th {\n",
       "        vertical-align: top;\n",
       "    }\n",
       "\n",
       "    .dataframe thead th {\n",
       "        text-align: right;\n",
       "    }\n",
       "</style>\n",
       "<table border=\"1\" class=\"dataframe\">\n",
       "  <thead>\n",
       "    <tr style=\"text-align: right;\">\n",
       "      <th></th>\n",
       "      <th>PassengerId</th>\n",
       "      <th>Survived</th>\n",
       "      <th>Pclass</th>\n",
       "      <th>Age</th>\n",
       "      <th>SibSp</th>\n",
       "      <th>Parch</th>\n",
       "      <th>Fare</th>\n",
       "    </tr>\n",
       "  </thead>\n",
       "  <tbody>\n",
       "    <tr>\n",
       "      <th>count</th>\n",
       "      <td>891.000000</td>\n",
       "      <td>891.000000</td>\n",
       "      <td>891.000000</td>\n",
       "      <td>891.000000</td>\n",
       "      <td>891.000000</td>\n",
       "      <td>891.000000</td>\n",
       "      <td>891.000000</td>\n",
       "    </tr>\n",
       "    <tr>\n",
       "      <th>mean</th>\n",
       "      <td>446.000000</td>\n",
       "      <td>0.383838</td>\n",
       "      <td>2.308642</td>\n",
       "      <td>29.699118</td>\n",
       "      <td>0.523008</td>\n",
       "      <td>0.381594</td>\n",
       "      <td>32.204208</td>\n",
       "    </tr>\n",
       "    <tr>\n",
       "      <th>std</th>\n",
       "      <td>257.353842</td>\n",
       "      <td>0.486592</td>\n",
       "      <td>0.836071</td>\n",
       "      <td>13.002015</td>\n",
       "      <td>1.102743</td>\n",
       "      <td>0.806057</td>\n",
       "      <td>49.693429</td>\n",
       "    </tr>\n",
       "    <tr>\n",
       "      <th>min</th>\n",
       "      <td>1.000000</td>\n",
       "      <td>0.000000</td>\n",
       "      <td>1.000000</td>\n",
       "      <td>0.420000</td>\n",
       "      <td>0.000000</td>\n",
       "      <td>0.000000</td>\n",
       "      <td>0.000000</td>\n",
       "    </tr>\n",
       "    <tr>\n",
       "      <th>25%</th>\n",
       "      <td>223.500000</td>\n",
       "      <td>0.000000</td>\n",
       "      <td>2.000000</td>\n",
       "      <td>22.000000</td>\n",
       "      <td>0.000000</td>\n",
       "      <td>0.000000</td>\n",
       "      <td>7.910400</td>\n",
       "    </tr>\n",
       "    <tr>\n",
       "      <th>50%</th>\n",
       "      <td>446.000000</td>\n",
       "      <td>0.000000</td>\n",
       "      <td>3.000000</td>\n",
       "      <td>29.699118</td>\n",
       "      <td>0.000000</td>\n",
       "      <td>0.000000</td>\n",
       "      <td>14.454200</td>\n",
       "    </tr>\n",
       "    <tr>\n",
       "      <th>75%</th>\n",
       "      <td>668.500000</td>\n",
       "      <td>1.000000</td>\n",
       "      <td>3.000000</td>\n",
       "      <td>35.000000</td>\n",
       "      <td>1.000000</td>\n",
       "      <td>0.000000</td>\n",
       "      <td>31.000000</td>\n",
       "    </tr>\n",
       "    <tr>\n",
       "      <th>max</th>\n",
       "      <td>891.000000</td>\n",
       "      <td>1.000000</td>\n",
       "      <td>3.000000</td>\n",
       "      <td>80.000000</td>\n",
       "      <td>8.000000</td>\n",
       "      <td>6.000000</td>\n",
       "      <td>512.329200</td>\n",
       "    </tr>\n",
       "  </tbody>\n",
       "</table>\n",
       "</div>"
      ],
      "text/plain": [
       "       PassengerId    Survived      Pclass         Age       SibSp  \\\n",
       "count   891.000000  891.000000  891.000000  891.000000  891.000000   \n",
       "mean    446.000000    0.383838    2.308642   29.699118    0.523008   \n",
       "std     257.353842    0.486592    0.836071   13.002015    1.102743   \n",
       "min       1.000000    0.000000    1.000000    0.420000    0.000000   \n",
       "25%     223.500000    0.000000    2.000000   22.000000    0.000000   \n",
       "50%     446.000000    0.000000    3.000000   29.699118    0.000000   \n",
       "75%     668.500000    1.000000    3.000000   35.000000    1.000000   \n",
       "max     891.000000    1.000000    3.000000   80.000000    8.000000   \n",
       "\n",
       "            Parch        Fare  \n",
       "count  891.000000  891.000000  \n",
       "mean     0.381594   32.204208  \n",
       "std      0.806057   49.693429  \n",
       "min      0.000000    0.000000  \n",
       "25%      0.000000    7.910400  \n",
       "50%      0.000000   14.454200  \n",
       "75%      0.000000   31.000000  \n",
       "max      6.000000  512.329200  "
      ]
     },
     "execution_count": 156,
     "metadata": {},
     "output_type": "execute_result"
    }
   ],
   "source": [
    "dataset.describe()"
   ]
  },
  {
   "cell_type": "code",
   "execution_count": null,
   "id": "7b03190b-38f6-4563-8da6-499ee6b4bd59",
   "metadata": {},
   "outputs": [],
   "source": []
  },
  {
   "cell_type": "code",
   "execution_count": null,
   "id": "9655670b-960b-4218-8954-d51d3da32d8f",
   "metadata": {},
   "outputs": [],
   "source": []
  }
 ],
 "metadata": {
  "kernelspec": {
   "display_name": "Python [conda env:base] *",
   "language": "python",
   "name": "conda-base-py"
  },
  "language_info": {
   "codemirror_mode": {
    "name": "ipython",
    "version": 3
   },
   "file_extension": ".py",
   "mimetype": "text/x-python",
   "name": "python",
   "nbconvert_exporter": "python",
   "pygments_lexer": "ipython3",
   "version": "3.13.5"
  }
 },
 "nbformat": 4,
 "nbformat_minor": 5
}
