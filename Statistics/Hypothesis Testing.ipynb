{
 "cells": [
  {
   "cell_type": "code",
   "execution_count": 2,
   "id": "10ec55a6-4f8a-4055-b613-553ad0c2dd07",
   "metadata": {},
   "outputs": [],
   "source": [
    "##### Hypothesis Testing\n",
    "### Steps:\n",
    "# 1. State null(H0) and alternative(H1) hypothesis \n",
    "# 2. Choose level of significance(alpha) - generally between 1% to 5%\n",
    "# 3. Find critical values\n",
    "# 4. Find test statistic\n",
    "# 5. Draw your conclusion"
   ]
  },
  {
   "cell_type": "code",
   "execution_count": 3,
   "id": "75f67ff3-ad09-4a1d-a788-4b1b914c97d0",
   "metadata": {},
   "outputs": [],
   "source": [
    "## H0 must always contains equality(=)\n",
    "## H1 must always contain difference(!=, <, >)"
   ]
  },
  {
   "cell_type": "code",
   "execution_count": 4,
   "id": "00b65729-5f66-47ba-b598-fb246034cf0c",
   "metadata": {},
   "outputs": [],
   "source": [
    "### Z-test and T-test used when we are dealing with averages\n",
    "# Z-test => population mean, population std. deviation & sample size >= 30 ==> sample mean\n",
    "# T-test => population mean, sample mean & sample size <= 30 ==> sample mean"
   ]
  },
  {
   "cell_type": "code",
   "execution_count": 10,
   "id": "8bf007de-3450-4646-9afa-1be54944ff6a",
   "metadata": {},
   "outputs": [],
   "source": [
    "import scipy.stats as st\n",
    "import numpy as np"
   ]
  },
  {
   "cell_type": "code",
   "execution_count": 11,
   "id": "ffcd5f47-1114-4c1a-98bf-6d6217dfd7db",
   "metadata": {},
   "outputs": [
    {
     "data": {
      "text/plain": [
       "np.float64(1.6448536269514722)"
      ]
     },
     "execution_count": 11,
     "metadata": {},
     "output_type": "execute_result"
    }
   ],
   "source": [
    "st.norm.ppf(1-0.05) # Z-value"
   ]
  },
  {
   "cell_type": "code",
   "execution_count": 12,
   "id": "9ebce7e3-dcc3-402f-887c-5a262cc23b0f",
   "metadata": {},
   "outputs": [],
   "source": [
    "### Z-test\n",
    "sample_x = 90\n",
    "pop_u = 82\n",
    "pop_std = 20\n",
    "sample_n = 81"
   ]
  },
  {
   "cell_type": "code",
   "execution_count": 14,
   "id": "f507b68b-7b17-4fed-95a8-75e50c9e31cf",
   "metadata": {},
   "outputs": [
    {
     "data": {
      "text/plain": [
       "np.float64(3.5999999999999996)"
      ]
     },
     "execution_count": 14,
     "metadata": {},
     "output_type": "execute_result"
    }
   ],
   "source": [
    "z_cal = (sample_x - pop_u)/(pop_std / np.sqrt(sample_n))\n",
    "z_cal"
   ]
  },
  {
   "cell_type": "code",
   "execution_count": 18,
   "id": "7734e77c-e03c-44e8-978b-f45975c8c139",
   "metadata": {},
   "outputs": [
    {
     "data": {
      "text/plain": [
       "np.float64(1.6448536269514722)"
      ]
     },
     "execution_count": 18,
     "metadata": {},
     "output_type": "execute_result"
    }
   ],
   "source": [
    "alpha = 0.05\n",
    "z_table = st.norm.ppf(1-alpha)\n",
    "z_table"
   ]
  },
  {
   "cell_type": "code",
   "execution_count": 17,
   "id": "07dd5a78-613e-43bd-89b8-00fa6049b947",
   "metadata": {},
   "outputs": [
    {
     "name": "stdout",
     "output_type": "stream",
     "text": [
      "Ha is right\n"
     ]
    }
   ],
   "source": [
    "if z_table < z_cal:\n",
    "    print(\"Ha is right\")\n",
    "else:\n",
    "    print(\"Ho is right\")"
   ]
  },
  {
   "cell_type": "code",
   "execution_count": 21,
   "id": "340a567f-220a-4801-9801-caf4ed40294f",
   "metadata": {},
   "outputs": [],
   "source": [
    "### T-test\n",
    "sample_x = 148\n",
    "pop_u = 150\n",
    "sample_std = 5\n",
    "sample_n = 25"
   ]
  },
  {
   "cell_type": "code",
   "execution_count": 23,
   "id": "5d100938-d3b7-4cca-b1f1-d78d3a197bcf",
   "metadata": {},
   "outputs": [
    {
     "data": {
      "text/plain": [
       "np.float64(-2.0)"
      ]
     },
     "execution_count": 23,
     "metadata": {},
     "output_type": "execute_result"
    }
   ],
   "source": [
    "t_cal = (sample_x - pop_u)/(sample_std / np.sqrt(sample_n))\n",
    "t_cal"
   ]
  },
  {
   "cell_type": "code",
   "execution_count": 27,
   "id": "2cd80c55-dbc1-46b3-aae0-c01ae22fb258",
   "metadata": {},
   "outputs": [
    {
     "data": {
      "text/plain": [
       "np.float64(1.685954460166737)"
      ]
     },
     "execution_count": 27,
     "metadata": {},
     "output_type": "execute_result"
    }
   ],
   "source": [
    "t_table = st.t.ppf(1-alpha, 38)\n",
    "t_table"
   ]
  },
  {
   "cell_type": "code",
   "execution_count": 28,
   "id": "1695681b-88bf-4518-b39d-740d8390b9e0",
   "metadata": {},
   "outputs": [],
   "source": [
    "##### Chi Square Test\n",
    "### Applicable in following situations:\n",
    "# 1. Goodness\n",
    "# 2. Independence"
   ]
  },
  {
   "cell_type": "code",
   "execution_count": 32,
   "id": "0c3f6b77-9aaf-43b1-9344-2047d0c25d52",
   "metadata": {},
   "outputs": [],
   "source": [
    "# 1. Goodness\n",
    "observed = np.array([22, 17, 20, 26, 22, 13])\n",
    "expected = np.array([20 for i in range(6)])"
   ]
  },
  {
   "cell_type": "code",
   "execution_count": 36,
   "id": "cd133289-1cd1-4c98-9b2d-04b4f7cfa917",
   "metadata": {},
   "outputs": [
    {
     "data": {
      "text/plain": [
       "np.float64(5.1000000000000005)"
      ]
     },
     "execution_count": 36,
     "metadata": {},
     "output_type": "execute_result"
    }
   ],
   "source": [
    "np.sum(np.square(observed - expected)/expected)"
   ]
  },
  {
   "cell_type": "code",
   "execution_count": 39,
   "id": "3a0f6fd9-079c-476c-8e47-0a535d5fbe7f",
   "metadata": {},
   "outputs": [
    {
     "data": {
      "text/plain": [
       "np.float64(3.327235743604043)"
      ]
     },
     "execution_count": 39,
     "metadata": {},
     "output_type": "execute_result"
    }
   ],
   "source": [
    "st.chi.ppf(1-alpha, 6-1)"
   ]
  },
  {
   "cell_type": "code",
   "execution_count": null,
   "id": "d27ea584-b571-4914-9cd3-726511277d6b",
   "metadata": {},
   "outputs": [],
   "source": []
  }
 ],
 "metadata": {
  "kernelspec": {
   "display_name": "Python [conda env:base] *",
   "language": "python",
   "name": "conda-base-py"
  },
  "language_info": {
   "codemirror_mode": {
    "name": "ipython",
    "version": 3
   },
   "file_extension": ".py",
   "mimetype": "text/x-python",
   "name": "python",
   "nbconvert_exporter": "python",
   "pygments_lexer": "ipython3",
   "version": "3.13.5"
  }
 },
 "nbformat": 4,
 "nbformat_minor": 5
}
