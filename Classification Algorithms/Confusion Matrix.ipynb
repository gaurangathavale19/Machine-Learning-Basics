{
 "cells": [
  {
   "cell_type": "markdown",
   "id": "2a3aeccb-9ba3-4abd-88b0-fb06323df900",
   "metadata": {},
   "source": [
    "# Confusion Matrix\n",
    "#### A simple and useful tool for understanding the performance of a classification model, like one used in ML or statistics."
   ]
  },
  {
   "cell_type": "code",
   "execution_count": null,
   "id": "5fb7d49c-54bb-4656-b5dc-b20d2c6965f5",
   "metadata": {},
   "outputs": [],
   "source": []
  }
 ],
 "metadata": {
  "kernelspec": {
   "display_name": "Python 3 (ipykernel)",
   "language": "python",
   "name": "python3"
  },
  "language_info": {
   "codemirror_mode": {
    "name": "ipython",
    "version": 3
   },
   "file_extension": ".py",
   "mimetype": "text/x-python",
   "name": "python",
   "nbconvert_exporter": "python",
   "pygments_lexer": "ipython3",
   "version": "3.13.5"
  }
 },
 "nbformat": 4,
 "nbformat_minor": 5
}
