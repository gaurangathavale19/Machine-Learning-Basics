{
 "cells": [
  {
   "cell_type": "markdown",
   "id": "656a0f7c-e60c-4cac-8c2f-50eec597bfff",
   "metadata": {},
   "source": [
    "# Types of classification algorithms"
   ]
  },
  {
   "cell_type": "markdown",
   "id": "07f04cdc-6322-4676-b744-38067f5ac92e",
   "metadata": {},
   "source": [
    "## 1. Non-Linear Models\n",
    "#### a. K-Nearest Neighbours\n",
    "#### b. Support Vector Machines (Kernel)\n",
    "#### c. Naive Bayes - (Works only for classification algorithm)\n",
    "#### d. Decision Tree Classification\n",
    "#### e. Random Forest Classification"
   ]
  },
  {
   "cell_type": "markdown",
   "id": "c66e486f-5906-4bfd-a1a8-dd93a217c6d7",
   "metadata": {},
   "source": [
    "## 2. Linear Models"
   ]
  },
  {
   "cell_type": "markdown",
   "id": "60847990-d0b1-4d93-ab7a-d9a179283fa2",
   "metadata": {},
   "source": [
    "#### a. Logistic Regression - (Works only for classification algorithm)\n",
    "#### b. Support Vector Machines\n",
    "\n",
    "## Note: Others work in case of regression algorithm as well"
   ]
  },
  {
   "cell_type": "markdown",
   "id": "07823536-0131-4d7d-985b-6b21b47c467c",
   "metadata": {},
   "source": [
    "## # Evaluating a classification model \n",
    "#### 1. Log Loss or Cross-Entropy Loss\n",
    "#### 2. Confusion Matrix\n",
    "#### 3. AUC-ROC curve"
   ]
  }
 ],
 "metadata": {
  "kernelspec": {
   "display_name": "Python 3 (ipykernel)",
   "language": "python",
   "name": "python3"
  },
  "language_info": {
   "codemirror_mode": {
    "name": "ipython",
    "version": 3
   },
   "file_extension": ".py",
   "mimetype": "text/x-python",
   "name": "python",
   "nbconvert_exporter": "python",
   "pygments_lexer": "ipython3",
   "version": "3.13.5"
  }
 },
 "nbformat": 4,
 "nbformat_minor": 5
}
