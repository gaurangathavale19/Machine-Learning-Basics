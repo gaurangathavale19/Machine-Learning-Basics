{
 "cells": [
  {
   "cell_type": "code",
   "execution_count": 1,
   "id": "94d67240-6417-49a5-8c28-1f7396ed6147",
   "metadata": {},
   "outputs": [],
   "source": [
    "### Cost Function\n",
    "# A cost function is an important parameter that determines how well a machine learning model performs for a given dataset\n",
    "# Cost function is a measure of how wrong the model is in estimating the relationship between input(x) and output(y) parameter."
   ]
  },
  {
   "cell_type": "code",
   "execution_count": 2,
   "id": "74aab7d6-b489-4ae9-9f2a-69ab8b8c6cda",
   "metadata": {},
   "outputs": [],
   "source": [
    "### Types: \n",
    "# 1. Regression Cost Function: Used to make a prediction for the continuous variables\n",
    "       # a. MSE (Mean Squared Error)\n",
    "       # b. RMSE (Root Mean Squared Error)\n",
    "       # c. MAE (Mean Absolute Error)\n",
    "       # d. R^2 Accuracy\n",
    "# y = mx + c\n",
    "# Calculation of m_new = m_old - lambda(dL/dm)\n",
    "# Note: lambda = Learning Rate\n",
    "\n",
    "# 2. Classification Cost Function \n",
    "       # a. Binary Classification Cost Function: Used to make predictions of categorical variables, such as predictions for 0 or 1, Cat or Dog, etc.\n",
    "       # b. Multi-class Classification Cost Function: Used in classification problems for which instances are allocated to one or more than 2 classes.\n",
    "            # i. Binary Cross Entropy Cost Function OR Log Loss Function"
   ]
  },
  {
   "cell_type": "code",
   "execution_count": 3,
   "id": "c0ebac17-ed92-49ea-8c22-b8b7078bbf4a",
   "metadata": {},
   "outputs": [],
   "source": [
    "### a. MSE (Mean Squared Error)\n",
    "# MSE is the Mean Squared difference between actual and predicted values.\n",
    "# MSE penalizes high errors caused by outliers by squaring the errors.\n",
    "# MSE is also known as L2 Loss.\n",
    "# MSE = (sum1ton(yi - yi_prd)^2)/n\n",
    "\n",
    "## Cons:\n",
    "# Mean Squared Error (MSE) is not robust against outliers.\n",
    "# Effect: A single outlier can dominate the loss function and pull the fitted model toward it, leading to poor generalization."
   ]
  },
  {
   "cell_type": "code",
   "execution_count": 4,
   "id": "b1bb248b-ccc2-453d-9130-df24cc194a6c",
   "metadata": {},
   "outputs": [],
   "source": [
    "### b. MAE (Mean Absolute Error)\n",
    "# MAE is mean absolute difference between actual and predicted values.\n",
    "# MAE is more robust to outliers. The insensitivity to outliers is because it does not penalize high errors caused by outliers.\n",
    "# MAE = (sum1ton(|yi - yi_prd|))/n"
   ]
  },
  {
   "cell_type": "code",
   "execution_count": null,
   "id": "473ffc39-dbff-4b34-abab-eb7dfbc165d9",
   "metadata": {},
   "outputs": [],
   "source": [
    "### c. RMSE (Root Mean Squared Error)\n",
    "# RMSE is the root squared mean of the difference actual and predicted values.\n",
    "# RMSE can be used in situations where we want penalize high errors but not as much as MSE does.\n",
    "# RMSE = sqrt((sum1ton(|yi - yi_prd|))/n)"
   ]
  }
 ],
 "metadata": {
  "kernelspec": {
   "display_name": "Python 3 (ipykernel)",
   "language": "python",
   "name": "python3"
  },
  "language_info": {
   "codemirror_mode": {
    "name": "ipython",
    "version": 3
   },
   "file_extension": ".py",
   "mimetype": "text/x-python",
   "name": "python",
   "nbconvert_exporter": "python",
   "pygments_lexer": "ipython3",
   "version": "3.13.5"
  }
 },
 "nbformat": 4,
 "nbformat_minor": 5
}
