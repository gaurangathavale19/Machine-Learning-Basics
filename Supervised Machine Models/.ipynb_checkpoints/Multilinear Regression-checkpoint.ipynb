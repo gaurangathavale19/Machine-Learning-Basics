{
 "cells": [
  {
   "cell_type": "code",
   "execution_count": 1,
   "id": "c705aec0-a0c8-49a9-a510-e7d4c5248d64",
   "metadata": {},
   "outputs": [],
   "source": [
    "import pandas as pd\n",
    "import seaborn as sns\n",
    "import matplotlib.pyplot as plt\n",
    "import numpy as np\n",
    "from sklearn.model_selection import train_test_split\n",
    "from sklearn.linear_model import LinearRegression"
   ]
  },
  {
   "cell_type": "code",
   "execution_count": null,
   "id": "7ae8cd0a-7669-4732-a4ee-9097d95f886b",
   "metadata": {},
   "outputs": [],
   "source": [
    "### Multi Linear Regression\n",
    "# Multi Linear Regression is an extension of Simple Linear Regression as it takes more than one predictor variable to predict the response variable.\n",
    "# Suppose you have a data with columns (x1, x2, y), then if the relationship between (x1 & y) and (x2 & y) is linear in nature, then we can use\n",
    "# Multi Linear Regression\n",
    "\n",
    "dataset = pd.read_csv(r\"C:\\Users\\Gaurang\\Downloads\\placement.csv\")"
   ]
  }
 ],
 "metadata": {
  "kernelspec": {
   "display_name": "Python 3 (ipykernel)",
   "language": "python",
   "name": "python3"
  },
  "language_info": {
   "codemirror_mode": {
    "name": "ipython",
    "version": 3
   },
   "file_extension": ".py",
   "mimetype": "text/x-python",
   "name": "python",
   "nbconvert_exporter": "python",
   "pygments_lexer": "ipython3",
   "version": "3.13.5"
  }
 },
 "nbformat": 4,
 "nbformat_minor": 5
}
